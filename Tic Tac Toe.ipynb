{
 "cells": [
  {
   "cell_type": "code",
   "execution_count": 2,
   "metadata": {},
   "outputs": [],
   "source": [
    "board={1:' ', 2:' ', 3:' ',\n",
    "       4:' ', 5:' ', 6:' ',\n",
    "       7:' ', 8:' ', 9:' '}"
   ]
  },
  {
   "cell_type": "code",
   "execution_count": 3,
   "metadata": {},
   "outputs": [],
   "source": [
    "#Board\n",
    "def printBoard(board):\n",
    "    print(board[1]+'|'+board[2]+'|'+board[3])\n",
    "    print('- - -')\n",
    "    print(board[4] + '|' + board[5] + '|' + board[6])\n",
    "    print('- - -')\n",
    "    print(board[7] + '|' + board[8] + '|' + board[9])\n",
    "    print('\\n')"
   ]
  },
  {
   "cell_type": "code",
   "execution_count": 4,
   "metadata": {},
   "outputs": [],
   "source": [
    "def spaceIsFree(position):\n",
    "    if (board[position]==' '):\n",
    "        return True\n",
    "    else:\n",
    "        return False"
   ]
  },
  {
   "cell_type": "code",
   "execution_count": 5,
   "metadata": {},
   "outputs": [],
   "source": [
    "def chkUserWin():\n",
    "    if (board[1]==board[2] and board[1]==board[3] and board[1] !=' '):\n",
    "        return True\n",
    "    elif (board[4]==board[5] and board[4]==board[6] and board[4] !=' '):\n",
    "        return True\n",
    "    elif (board[7]==board[8] and board[7]==board[9] and board[7] !=' '):\n",
    "        return True\n",
    "    elif (board[1]==board[5] and board[1]==board[9] and board[1] !=' '):\n",
    "        return True\n",
    "    elif (board[3]==board[5] and board[3]==board[7] and board[3] !=' '):\n",
    "        return True\n",
    "    elif (board[1]==board[4] and board[1]==board[7] and board[1] !=' '):\n",
    "        return True\n",
    "    elif (board[2]==board[5] and board[2]==board[8] and board[2] !=' '):\n",
    "        return True\n",
    "    elif (board[3]==board[6] and board[3]==board[9] and board[3] !=' '):\n",
    "        return True\n",
    "    else:\n",
    "        return False"
   ]
  },
  {
   "cell_type": "code",
   "execution_count": 6,
   "metadata": {},
   "outputs": [],
   "source": [
    "def chkMarkForWin(mark):\n",
    "    if (board[1]==board[2] and board[1]==board[3] and board[1] ==mark):\n",
    "        return True\n",
    "    elif (board[4]==board[5] and board[4]==board[6] and board[4] ==mark):\n",
    "        return True\n",
    "    elif (board[7]==board[8] and board[7]==board[9] and board[7] ==mark):\n",
    "        return True\n",
    "    elif (board[1]==board[5] and board[1]==board[9] and board[1] ==mark):\n",
    "        return True\n",
    "    elif (board[3]==board[5] and board[3]==board[7] and board[3] ==mark):\n",
    "        return True\n",
    "    elif (board[1]==board[4] and board[1]==board[7] and board[1] ==mark):\n",
    "        return True\n",
    "    elif (board[2]==board[5] and board[2]==board[8] and board[2] ==mark):\n",
    "        return True\n",
    "    elif (board[3]==board[6] and board[3]==board[9] and board[3] ==mark):\n",
    "        return True\n",
    "    else:\n",
    "        return False"
   ]
  },
  {
   "cell_type": "code",
   "execution_count": 7,
   "metadata": {},
   "outputs": [],
   "source": [
    "def chkDraw():\n",
    "    for key in board.keys():\n",
    "        if (board[key]==' '):\n",
    "            return False\n",
    "    return True"
   ]
  },
  {
   "cell_type": "code",
   "execution_count": 8,
   "metadata": {},
   "outputs": [],
   "source": [
    "def insertLetter(letter, position):\n",
    "    if (spaceIsFree(position)):\n",
    "        board[position]=letter\n",
    "        printBoard(board)\n",
    "        \n",
    "        if (chkDraw()):\n",
    "            print('Draw!')\n",
    "        elif (chkUserWin()):\n",
    "            if (letter=='X'):\n",
    "                print('Machine wins!')\n",
    "            else:\n",
    "                print('You win!')\n",
    "        return\n",
    "    \n",
    "    else:\n",
    "        print('Position taken')\n",
    "        position=int(input('Enter new position: '))\n",
    "        insertLetter(letter, position)\n",
    "        return"
   ]
  },
  {
   "cell_type": "code",
   "execution_count": 9,
   "metadata": {},
   "outputs": [],
   "source": [
    "player = 'O'\n",
    "machine ='X'"
   ]
  },
  {
   "cell_type": "code",
   "execution_count": 10,
   "metadata": {},
   "outputs": [],
   "source": [
    "#function for player move\n",
    "def playerMove():\n",
    "    position=int(input('Enter position for O:'))\n",
    "    insertLetter(player, position)\n",
    "    return"
   ]
  },
  {
   "cell_type": "code",
   "execution_count": 11,
   "metadata": {},
   "outputs": [],
   "source": [
    "#machine move\n",
    "def MachineMove():\n",
    "    bestScore=-1000\n",
    "    bestMove=0\n",
    "    for key in board.keys():\n",
    "        if (board[key]==' '):\n",
    "            board[key]=machine\n",
    "            score = minimax(board, False) \n",
    "            board[key] = ' ' \n",
    "            if (score > bestScore): \n",
    "                bestScore = score\n",
    "                bestMove = key\n",
    "    #at the end of the loop, we have the best move figured out.\n",
    "    insertLetter(machine, bestMove)\n",
    "    return"
   ]
  },
  {
   "cell_type": "code",
   "execution_count": 12,
   "metadata": {},
   "outputs": [],
   "source": [
    "def minimax(board, isMaximizing):\n",
    "    if (chkMarkForWin(machine)):\n",
    "        return 1\n",
    "    elif (chkMarkForWin(player)):\n",
    "        return -1\n",
    "    elif (chkDraw()):\n",
    "        return 0\n",
    "    \n",
    "    if isMaximizing:\n",
    "        bestScore = -1000\n",
    "        \n",
    "        for key in board.keys():\n",
    "            if board[key]==' ':\n",
    "                board[key]=machine\n",
    "                score = minimax(board, False)\n",
    "                board[key]= ' '\n",
    "                if (score>bestScore):\n",
    "                    bestScore = score\n",
    "        return bestScore\n",
    "    else:\n",
    "        bestScore = 1000\n",
    "        \n",
    "        for key in board.keys():\n",
    "            if board[key]==' ':\n",
    "                board[key]=player\n",
    "                score = minimax(board, True)\n",
    "                board[key]= ' '\n",
    "                if (score<bestScore):\n",
    "                    bestScore = score\n",
    "        return bestScore"
   ]
  },
  {
   "cell_type": "code",
   "execution_count": null,
   "metadata": {},
   "outputs": [
    {
     "name": "stdout",
     "output_type": "stream",
     "text": [
      "X| | \n",
      "- - -\n",
      " | | \n",
      "- - -\n",
      " | | \n",
      "\n",
      "\n"
     ]
    }
   ],
   "source": [
    "while not chkUserWin():\n",
    "    MachineMove()\n",
    "    playerMove()"
   ]
  },
  {
   "cell_type": "code",
   "execution_count": null,
   "metadata": {},
   "outputs": [],
   "source": []
  }
 ],
 "metadata": {
  "kernelspec": {
   "display_name": "Python 3",
   "language": "python",
   "name": "python3"
  },
  "language_info": {
   "codemirror_mode": {
    "name": "ipython",
    "version": 3
   },
   "file_extension": ".py",
   "mimetype": "text/x-python",
   "name": "python",
   "nbconvert_exporter": "python",
   "pygments_lexer": "ipython3",
   "version": "3.7.6"
  }
 },
 "nbformat": 4,
 "nbformat_minor": 4
}
